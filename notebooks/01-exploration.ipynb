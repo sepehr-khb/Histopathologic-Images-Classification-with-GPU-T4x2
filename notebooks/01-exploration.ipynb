# 🧪 Exploration Notebook
'''
This notebook is dedicated solely to exploratory data analysis (EDA). The original tutorial code can be found in `kaggle-original.ipynb`.
'''
import pandas as pd
import matplotlib.pyplot as plt
import os
import cv2

#Reading labels
df = pd.read_csv("../data/train_labels.csv")
print("Train shape:", df.shape)
print(df['label'].value_counts())

#Display several sample images
sample = df.sample(6, random_state=42)
plt.figure(figsize=(10,6))
for i, (idx, row) in enumerate(sample.iterrows()):
    img = cv2.imread(os.path.join("../data/train", f"{row['id']}.tif"))
    plt.subplot(2,3,i+1)
    plt.imshow(cv2.cvtColor(img, cv2.COLOR_BGR2RGB))
    plt.title(f"Label: {row['label']}")
    plt.axis("off")
plt.show()
