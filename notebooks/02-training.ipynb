# 🚀 Training Notebook

'''
This notebook presents a simplified version of the training process. 
For the complete implementation, refer to `src/train.py` and `configs/hyperparams.yaml`.
'''

!python ../src/train.py --config ../configs/hyperparams.yaml
